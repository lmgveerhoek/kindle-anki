{
 "cells": [
  {
   "cell_type": "code",
   "execution_count": null,
   "metadata": {},
   "outputs": [],
   "source": [
    "import sys \n",
    "import sqlite3\n",
    "import argparse\n",
    "import os \n",
    "from dotenv import load_dotenv\n",
    "from openai import OpenAI\n",
    "load_dotenv()"
   ]
  },
  {
   "cell_type": "code",
   "execution_count": null,
   "metadata": {},
   "outputs": [],
   "source": [
    "# We need to create a connection to the database file, named vocab.db\n",
    "# We have retrieved this file from our kindle, and it contains the words we have looked up\n",
    "\n",
    "def create_connection(db_file):\n",
    "    conn = None\n",
    "    try:\n",
    "        conn = sqlite3.connect(db_file)\n",
    "    except sqlite3.Error as e:\n",
    "        print(e)\n",
    "    return conn"
   ]
  },
  {
   "cell_type": "code",
   "execution_count": null,
   "metadata": {},
   "outputs": [],
   "source": [
    "# We want to joint the two tables from LOOKUPS and WORDS\n",
    "# We can do this by making use of word_key from LOOKUPS and id from WORDS\n",
    "# The only columns we need are: word_key/id, word, stem, lang, and usage\n",
    "def join_tables(conn):\n",
    "    cur = conn.cursor()\n",
    "    cur.execute(\"SELECT LOOKUPS.word_key, WORDS.word, WORDS.stem, WORDS.lang, LOOKUPS.usage FROM LOOKUPS INNER JOIN WORDS ON LOOKUPS.word_key = WORDS.id\")\n",
    "    rows = cur.fetchall()\n",
    "    return rows"
   ]
  },
  {
   "cell_type": "code",
   "execution_count": null,
   "metadata": {},
   "outputs": [],
   "source": [
    "# Let's try our code\n",
    "def main():\n",
    "    conn = create_connection(\"vocab.db\")\n",
    "    with conn:\n",
    "        rows = join_tables(conn)\n",
    "        return rows"
   ]
  },
  {
   "cell_type": "code",
   "execution_count": null,
   "metadata": {},
   "outputs": [],
   "source": [
    "main()"
   ]
  },
  {
   "cell_type": "code",
   "execution_count": null,
   "metadata": {},
   "outputs": [],
   "source": [
    "# Let's create an OpenAI client to use the API\n",
    "client = OpenAI()"
   ]
  },
  {
   "cell_type": "code",
   "execution_count": null,
   "metadata": {},
   "outputs": [],
   "source": [
    "completion = client.chat.completions.create(\n",
    "    model=\"gpt-4o-mini\",\n",
    "    messages=[\n",
    "        {\"role\": \"system\", \"content\": \"You are a helpful assistant.\"},\n",
    "        {\n",
    "            \"role\": \"user\",\n",
    "            \"content\": \"Write a haiku about recursion in programming.\"\n",
    "        }\n",
    "    ]\n",
    ")\n",
    "\n",
    "print(completion.choices[0].message)"
   ]
  },
  {
   "cell_type": "code",
   "execution_count": null,
   "metadata": {},
   "outputs": [],
   "source": [
    "# For each word in our joined tables, we want to determine the meaning of the word in the context of the usage. \n",
    "# We will use the OpenAI client to generate a response for each word\n",
    "def generate_definition(word, usage):\n",
    "    completion = client.chat.completions.create(\n",
    "        model=\"gpt-4o-mini\",\n",
    "        messages=[\n",
    "            {\"role\": \"system\", \"content\": \"You are a helpful assistant.\"},\n",
    "            {\n",
    "                \"role\": \"user\",\n",
    "                \"content\": f\"Define \\\"{word}\\\" in the context of \\\"{usage}\\\".\"\n",
    "            }\n",
    "        ]\n",
    "    )\n",
    "    return completion.choices[0].message"
   ]
  },
  {
   "cell_type": "code",
   "execution_count": null,
   "metadata": {},
   "outputs": [],
   "source": [
    "# Take first 10 rows for testing\n",
    "rows = main()\n",
    "rows = rows[:10]\n",
    "responses = []\n",
    "for row in rows:\n",
    "    word = row[1]\n",
    "    usage = row[4]\n",
    "    response = generate_definition(word, usage)\n",
    "    responses.append(response)\n"
   ]
  },
  {
   "cell_type": "code",
   "execution_count": null,
   "metadata": {},
   "outputs": [],
   "source": [
    "responses"
   ]
  }
 ],
 "metadata": {
  "kernelspec": {
   "display_name": ".venv",
   "language": "python",
   "name": "python3"
  },
  "language_info": {
   "codemirror_mode": {
    "name": "ipython",
    "version": 3
   },
   "file_extension": ".py",
   "mimetype": "text/x-python",
   "name": "python",
   "nbconvert_exporter": "python",
   "pygments_lexer": "ipython3",
   "version": "3.12.2"
  }
 },
 "nbformat": 4,
 "nbformat_minor": 2
}
