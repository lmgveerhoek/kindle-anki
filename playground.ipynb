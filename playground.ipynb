{
 "cells": [
  {
   "cell_type": "code",
   "execution_count": 63,
   "metadata": {},
   "outputs": [
    {
     "data": {
      "text/plain": [
       "True"
      ]
     },
     "execution_count": 63,
     "metadata": {},
     "output_type": "execute_result"
    }
   ],
   "source": [
    "import sys \n",
    "import sqlite3\n",
    "import argparse\n",
    "import os \n",
    "from dotenv import load_dotenv\n",
    "from openai import OpenAI\n",
    "load_dotenv()"
   ]
  },
  {
   "cell_type": "code",
   "execution_count": 64,
   "metadata": {},
   "outputs": [],
   "source": [
    "# We need to create a connection to the database file, named vocab.db\n",
    "# We have retrieved this file from our kindle, and it contains the words we have looked up\n",
    "def create_connection(db_file):\n",
    "    conn = None\n",
    "    try:\n",
    "        conn = sqlite3.connect(db_file)\n",
    "    except sqlite3.Error as e:\n",
    "        print(e)\n",
    "    return conn"
   ]
  },
  {
   "cell_type": "code",
   "execution_count": 65,
   "metadata": {},
   "outputs": [],
   "source": [
    "# We want to joint the two tables from LOOKUPS, BOOK_INFO and WORDS\n",
    "# We can do this by making use of the book_key from LOOKUPS and id from BOOK_INFO\n",
    "# To join the other tables we have to make use of the word_key from LOOKUPS and id from WORDS\n",
    "# The only columns we need are: word_key/id, word, stem, title, and usage\n",
    "def join_tables(conn):\n",
    "    cur = conn.cursor()\n",
    "    cur.execute(\"SELECT word_key, word, title, usage FROM LOOKUPS JOIN WORDS ON LOOKUPS.word_key = WORDS.id JOIN BOOK_INFO ON LOOKUPS.book_key = BOOK_INFO.id\")\n",
    "    rows = cur.fetchall()\n",
    "    return rows"
   ]
  },
  {
   "cell_type": "code",
   "execution_count": 66,
   "metadata": {},
   "outputs": [],
   "source": [
    "# Let's try our code\n",
    "def retrieve_rows(file):\n",
    "    conn = create_connection(file)\n",
    "    with conn:\n",
    "        rows = join_tables(conn)\n",
    "        return rows"
   ]
  },
  {
   "cell_type": "code",
   "execution_count": null,
   "metadata": {},
   "outputs": [],
   "source": [
    "main()"
   ]
  },
  {
   "cell_type": "code",
   "execution_count": 68,
   "metadata": {},
   "outputs": [],
   "source": [
    "# Let's create an OpenAI client to use the API\n",
    "client = OpenAI()"
   ]
  },
  {
   "cell_type": "code",
   "execution_count": 81,
   "metadata": {},
   "outputs": [],
   "source": [
    "# For each word in our joined tables, we want to determine the meaning of the word in the context of the usage. \n",
    "# We will use the OpenAI client to generate a response for each word\n",
    "def generate_definition(word, usage):\n",
    "    completion = client.chat.completions.create(\n",
    "        model=\"gpt-4o-mini\",\n",
    "        messages=[\n",
    "            #{\"role\": \"system\", \"content\": \"You are a language bot who ONLY returns the English definition of the word given the context. The translation must at most be several words.\"},\n",
    "            {\"role\": \"system\", \"content\": \"You are a language bot who EXCLUSIVELY returns the English definition of the word given the context, without explanation. The translation must at most be several words.\"},\n",
    "            {\n",
    "                \"role\": \"user\",\n",
    "                \"content\": f\"Define \\\"{word}\\\" in the context of \\\"{usage}\\\".\"\n",
    "            }\n",
    "        ]\n",
    "    )\n",
    "    return completion.choices[0].message\n"
   ]
  },
  {
   "cell_type": "code",
   "execution_count": 79,
   "metadata": {},
   "outputs": [],
   "source": [
    "# # Take first 10 rows for testing\n",
    "# rows = main()\n",
    "# rows = rows[:50]\n",
    "# responses = []\n",
    "# for row in rows:\n",
    "#     word = row[1]\n",
    "#     usage = row[3]\n",
    "#     response = generate_definition(word, usage)\n",
    "#     responses.append(response)\n",
    "\n",
    "# Take first 10 rows for testing\n",
    "rows = main()\n",
    "rows = rows[:50]\n",
    "responses = []\n",
    "results = []\n",
    "for row in rows:\n",
    "    word = row[1]\n",
    "    usage = row[3]\n",
    "    response = generate_definition(word, usage)\n",
    "    responses.append(response)\n"
   ]
  },
  {
   "cell_type": "code",
   "execution_count": 80,
   "metadata": {},
   "outputs": [
    {
     "data": {
      "text/plain": [
       "[ChatCompletionMessage(content='\"I\"', refusal=None, role='assistant', function_call=None, tool_calls=None),\n",
       " ChatCompletionMessage(content='to deceive or fool', refusal=None, role='assistant', function_call=None, tool_calls=None),\n",
       " ChatCompletionMessage(content='time', refusal=None, role='assistant', function_call=None, tool_calls=None),\n",
       " ChatCompletionMessage(content='Morning light', refusal=None, role='assistant', function_call=None, tool_calls=None),\n",
       " ChatCompletionMessage(content='welcome', refusal=None, role='assistant', function_call=None, tool_calls=None),\n",
       " ChatCompletionMessage(content='remaining', refusal=None, role='assistant', function_call=None, tool_calls=None),\n",
       " ChatCompletionMessage(content='self-criticism', refusal=None, role='assistant', function_call=None, tool_calls=None),\n",
       " ChatCompletionMessage(content='\"Stop it.\"', refusal=None, role='assistant', function_call=None, tool_calls=None),\n",
       " ChatCompletionMessage(content='Bustling or flourishing world.', refusal=None, role='assistant', function_call=None, tool_calls=None),\n",
       " ChatCompletionMessage(content='mental state', refusal=None, role='assistant', function_call=None, tool_calls=None),\n",
       " ChatCompletionMessage(content='indeed', refusal=None, role='assistant', function_call=None, tool_calls=None),\n",
       " ChatCompletionMessage(content='shooting', refusal=None, role='assistant', function_call=None, tool_calls=None),\n",
       " ChatCompletionMessage(content='Receive', refusal=None, role='assistant', function_call=None, tool_calls=None),\n",
       " ChatCompletionMessage(content='female hero', refusal=None, role='assistant', function_call=None, tool_calls=None),\n",
       " ChatCompletionMessage(content='No problem.', refusal=None, role='assistant', function_call=None, tool_calls=None),\n",
       " ChatCompletionMessage(content='Focus or emphasis.', refusal=None, role='assistant', function_call=None, tool_calls=None),\n",
       " ChatCompletionMessage(content='even if', refusal=None, role='assistant', function_call=None, tool_calls=None),\n",
       " ChatCompletionMessage(content='To comfort or soothe.', refusal=None, role='assistant', function_call=None, tool_calls=None),\n",
       " ChatCompletionMessage(content='how', refusal=None, role='assistant', function_call=None, tool_calls=None),\n",
       " ChatCompletionMessage(content='medicine', refusal=None, role='assistant', function_call=None, tool_calls=None),\n",
       " ChatCompletionMessage(content='Delay or prolong.', refusal=None, role='assistant', function_call=None, tool_calls=None),\n",
       " ChatCompletionMessage(content='Gender-bending performance', refusal=None, role='assistant', function_call=None, tool_calls=None),\n",
       " ChatCompletionMessage(content='to make things difficult', refusal=None, role='assistant', function_call=None, tool_calls=None),\n",
       " ChatCompletionMessage(content='news', refusal=None, role='assistant', function_call=None, tool_calls=None),\n",
       " ChatCompletionMessage(content='Visit.', refusal=None, role='assistant', function_call=None, tool_calls=None),\n",
       " ChatCompletionMessage(content='\"replace\"', refusal=None, role='assistant', function_call=None, tool_calls=None),\n",
       " ChatCompletionMessage(content='to coax or tease', refusal=None, role='assistant', function_call=None, tool_calls=None),\n",
       " ChatCompletionMessage(content='specially; specifically', refusal=None, role='assistant', function_call=None, tool_calls=None),\n",
       " ChatCompletionMessage(content='to lose or be at a loss', refusal=None, role='assistant', function_call=None, tool_calls=None),\n",
       " ChatCompletionMessage(content='skin or surface', refusal=None, role='assistant', function_call=None, tool_calls=None),\n",
       " ChatCompletionMessage(content='to hit or beat', refusal=None, role='assistant', function_call=None, tool_calls=None),\n",
       " ChatCompletionMessage(content='severely', refusal=None, role='assistant', function_call=None, tool_calls=None),\n",
       " ChatCompletionMessage(content='the remainder', refusal=None, role='assistant', function_call=None, tool_calls=None),\n",
       " ChatCompletionMessage(content='Make money.', refusal=None, role='assistant', function_call=None, tool_calls=None),\n",
       " ChatCompletionMessage(content='to give as an example', refusal=None, role='assistant', function_call=None, tool_calls=None),\n",
       " ChatCompletionMessage(content='remaining', refusal=None, role='assistant', function_call=None, tool_calls=None),\n",
       " ChatCompletionMessage(content='Play tricks.', refusal=None, role='assistant', function_call=None, tool_calls=None),\n",
       " ChatCompletionMessage(content='must', refusal=None, role='assistant', function_call=None, tool_calls=None),\n",
       " ChatCompletionMessage(content='even if', refusal=None, role='assistant', function_call=None, tool_calls=None),\n",
       " ChatCompletionMessage(content='handsome and carefree', refusal=None, role='assistant', function_call=None, tool_calls=None),\n",
       " ChatCompletionMessage(content='\"can also work\"', refusal=None, role='assistant', function_call=None, tool_calls=None),\n",
       " ChatCompletionMessage(content='Sweet and delicate.', refusal=None, role='assistant', function_call=None, tool_calls=None),\n",
       " ChatCompletionMessage(content='\"discover more\"', refusal=None, role='assistant', function_call=None, tool_calls=None),\n",
       " ChatCompletionMessage(content='delicate, coy', refusal=None, role='assistant', function_call=None, tool_calls=None),\n",
       " ChatCompletionMessage(content='Cross-dressing or role reversal.', refusal=None, role='assistant', function_call=None, tool_calls=None),\n",
       " ChatCompletionMessage(content='In a cute or overly soft manner.', refusal=None, role='assistant', function_call=None, tool_calls=None),\n",
       " ChatCompletionMessage(content='Payment of fees.', refusal=None, role='assistant', function_call=None, tool_calls=None),\n",
       " ChatCompletionMessage(content='\"tyrannical\"', refusal=None, role='assistant', function_call=None, tool_calls=None),\n",
       " ChatCompletionMessage(content='small favor', refusal=None, role='assistant', function_call=None, tool_calls=None),\n",
       " ChatCompletionMessage(content='You spoke correctly.', refusal=None, role='assistant', function_call=None, tool_calls=None)]"
      ]
     },
     "execution_count": 80,
     "metadata": {},
     "output_type": "execute_result"
    }
   ],
   "source": [
    "responses"
   ]
  },
  {
   "cell_type": "code",
   "execution_count": null,
   "metadata": {},
   "outputs": [],
   "source": []
  }
 ],
 "metadata": {
  "kernelspec": {
   "display_name": ".venv",
   "language": "python",
   "name": "python3"
  },
  "language_info": {
   "codemirror_mode": {
    "name": "ipython",
    "version": 3
   },
   "file_extension": ".py",
   "mimetype": "text/x-python",
   "name": "python",
   "nbconvert_exporter": "python",
   "pygments_lexer": "ipython3",
   "version": "3.12.2"
  }
 },
 "nbformat": 4,
 "nbformat_minor": 2
}
